{
 "cells": [
  {
   "cell_type": "code",
   "execution_count": 1,
   "id": "30152816",
   "metadata": {
    "tags": []
   },
   "outputs": [],
   "source": [
    "import requests\n",
    "import pandas as pd\n",
    "from bs4 import BeautifulSoup\n",
    "\n"
   ]
  },
  {
   "cell_type": "code",
   "execution_count": 2,
   "id": "c718dd41",
   "metadata": {},
   "outputs": [],
   "source": [
    "url = \"https://www.flipkart.com/search?q=electronics&otracker=search&otracker1=search&marketplace=FLIPKART&as-show=on&as=off&as-pos=1&as-type=HISTORY&page={}\""
   ]
  },
  {
   "cell_type": "code",
   "execution_count": 3,
   "id": "300903f0",
   "metadata": {},
   "outputs": [],
   "source": [
    "\n",
    "url1 = \"https://www.flipkart.com/search?q=electronics&otracker=search&otracker1=search&marketplace=FLIPKART&as-show=on&as=off&as-pos=1&as-type=HISTORY\""
   ]
  },
  {
   "cell_type": "code",
   "execution_count": 4,
   "id": "461afaca",
   "metadata": {},
   "outputs": [],
   "source": [
    "\n",
    "data = {\n",
    "        'Product Name': [],\n",
    "        'Original Price': [],\n",
    "        'Discounted price': [],\n",
    "        'Discount(%)': [],\n",
    "        'Rating': []\n",
    "       }"
   ]
  },
  {
   "cell_type": "code",
   "execution_count": 5,
   "id": "e21a1184",
   "metadata": {},
   "outputs": [
    {
     "data": {
      "text/plain": [
       "200"
      ]
     },
     "execution_count": 5,
     "metadata": {},
     "output_type": "execute_result"
    }
   ],
   "source": [
    "resp = requests.get(url1)\n",
    "resp.status_code"
   ]
  },
  {
   "cell_type": "code",
   "execution_count": 6,
   "id": "350e76d5",
   "metadata": {},
   "outputs": [],
   "source": [
    "soup = BeautifulSoup(resp.text, 'html.parser')"
   ]
  },
  {
   "cell_type": "code",
   "execution_count": 7,
   "id": "b689035d",
   "metadata": {},
   "outputs": [
    {
     "data": {
      "text/plain": [
       "40"
      ]
     },
     "execution_count": 7,
     "metadata": {},
     "output_type": "execute_result"
    }
   ],
   "source": [
    "names = [ i.text.split('(')[0] for i in soup.find_all('a', attrs={'class': 's1Q9rs'}) ]\n",
    "len(names)"
   ]
  },
  {
   "cell_type": "code",
   "execution_count": 8,
   "id": "3847b2d0",
   "metadata": {},
   "outputs": [
    {
     "data": {
      "text/plain": [
       "40"
      ]
     },
     "execution_count": 8,
     "metadata": {},
     "output_type": "execute_result"
    }
   ],
   "source": [
    "#Product_Name, Original_Price, Discount_Price, Discount(%), Rating.\n",
    "\n",
    "op = [ i.text.replace('₹', '') for i in soup.find_all('div', attrs={'class': '_3I9_wc'}) ]\n",
    "len(op)"
   ]
  },
  {
   "cell_type": "code",
   "execution_count": 9,
   "id": "41b0fbf5",
   "metadata": {},
   "outputs": [
    {
     "data": {
      "text/plain": [
       "40"
      ]
     },
     "execution_count": 9,
     "metadata": {},
     "output_type": "execute_result"
    }
   ],
   "source": [
    "dp = [ i.text.replace('₹', '') for i in soup.find_all('div', attrs={'class': '_30jeq3'}) ]\n",
    "final = dp[:-5]\n",
    "\n",
    "len(final)"
   ]
  },
  {
   "cell_type": "code",
   "execution_count": 10,
   "id": "423b0991",
   "metadata": {},
   "outputs": [
    {
     "data": {
      "text/plain": [
       "40"
      ]
     },
     "execution_count": 10,
     "metadata": {},
     "output_type": "execute_result"
    }
   ],
   "source": [
    "dis = [ i.span.text.replace('% off', '') for i in soup.find_all('div', attrs={'class': '_3Ay6Sb'}) ]\n",
    "result = dis[:-5]\n",
    "len(result)\n"
   ]
  },
  {
   "cell_type": "code",
   "execution_count": 11,
   "id": "28b04934",
   "metadata": {},
   "outputs": [],
   "source": [
    "import numpy as np"
   ]
  },
  {
   "cell_type": "code",
   "execution_count": 12,
   "id": "c2dec2fb",
   "metadata": {},
   "outputs": [
    {
     "data": {
      "text/plain": [
       "54"
      ]
     },
     "execution_count": 12,
     "metadata": {},
     "output_type": "execute_result"
    }
   ],
   "source": [
    "rating = [ i.text for i in soup.find_all('div', attrs={'class': '_3LWZlK'}) ]\n",
    "len(rating)\n"
   ]
  },
  {
   "cell_type": "code",
   "execution_count": 13,
   "id": "7584a289",
   "metadata": {},
   "outputs": [],
   "source": [
    "name = []\n",
    "op1 = []\n",
    "dp1 = []\n",
    "disc = []\n",
    "ratings = []"
   ]
  },
  {
   "cell_type": "code",
   "execution_count": 14,
   "id": "268c5982",
   "metadata": {},
   "outputs": [],
   "source": [
    "def get_content(start, end):\n",
    "    url = \"https://www.flipkart.com/search?q=electronics&otracker=search&otracker1=search&marketplace=FLIPKART&as-show=on&as=off&as-pos=1&as-type=HISTORY&page={}\"\n",
    "    e_page = []\n",
    "    for a in tqdm.tqdm(range(start, end+1)):\n",
    "        resp = requests.get(url.format(a, a))\n",
    "        if resp.status_code == 200:\n",
    "            context = resp.text\n",
    "            soup = BeautifulSoup(context, 'html.parser')\n",
    "            names = [ i.text.split('(')[0] for i in soup.find_all('a', attrs={'class': 's1Q9rs'}) ]\n",
    "            name.extend(names)\n",
    "            op = [ i.text.replace('₹', '') for i in soup.find_all('div', attrs={'class': '_3I9_wc'}) ]\n",
    "            op1.extend(op)\n",
    "            dp = [ i.text.replace('₹', '') for i in soup.find_all('div', attrs={'class': '_30jeq3'}) ]\n",
    "            final = dp[:-5]\n",
    "            dp1.extend(final)\n",
    "            dis = [ i.span.text.replace('% off', '') for i in soup.find_all('div', attrs={'class': '_3Ay6Sb'}) ]\n",
    "            result = dis[:-5]\n",
    "            disc.extend(result)\n",
    "            rating = [ i.text for i in soup.find_all('div', attrs={'class': '_3LWZlK'}) ]\n",
    "            ratings.extend(rating)\n",
    "        elif resp.status_code != 200:\n",
    "            e_page.append(a)\n",
    "        else:\n",
    "            print(f\"!Error {resp.status_code} and reason {resp.reason}. \")\n",
    "            break\n",
    "    return data, e_page"
   ]
  },
  {
   "cell_type": "code",
   "execution_count": 15,
   "id": "66bc3c6b",
   "metadata": {},
   "outputs": [
    {
     "name": "stderr",
     "output_type": "stream",
     "text": [
      "100%|██████████████████████████████████████████████████████████████████████████████████| 25/25 [00:39<00:00,  1.59s/it]\n"
     ]
    }
   ],
   "source": [
    "import tqdm\n",
    "data, error_page = get_content(1, 25)"
   ]
  },
  {
   "cell_type": "code",
   "execution_count": 16,
   "id": "c31a8991",
   "metadata": {},
   "outputs": [],
   "source": [
    "a, b, c, d, e = len(name), len(op1), len(dp1), len(disc), len(ratings)\n",
    "m1 = min(a, b, c, d, e)"
   ]
  },
  {
   "cell_type": "code",
   "execution_count": 17,
   "id": "efaee2ef",
   "metadata": {},
   "outputs": [
    {
     "name": "stdout",
     "output_type": "stream",
     "text": [
      "980\n",
      "980\n",
      "980\n",
      "980\n",
      "980\n"
     ]
    }
   ],
   "source": [
    "print(len(name[:m1]))\n",
    "print(len(op1[:m1]))\n",
    "print(len(dp1[:m1]))\n",
    "print(len(disc[:m1]))\n",
    "print(len(ratings[:m1]))"
   ]
  },
  {
   "cell_type": "code",
   "execution_count": 18,
   "id": "3385e57b",
   "metadata": {},
   "outputs": [],
   "source": [
    "data = {\n",
    "        'Product Name': name[:m1],\n",
    "        'Original Price': op1[:m1], \n",
    "        'Discounted price': dp1[:m1],\n",
    "        'Discount(%)': disc[:m1],\n",
    "        'Rating': ratings[:m1] \n",
    "       }"
   ]
  },
  {
   "cell_type": "code",
   "execution_count": 19,
   "id": "dc6f154c",
   "metadata": {},
   "outputs": [
    {
     "data": {
      "text/html": [
       "<div>\n",
       "<style scoped>\n",
       "    .dataframe tbody tr th:only-of-type {\n",
       "        vertical-align: middle;\n",
       "    }\n",
       "\n",
       "    .dataframe tbody tr th {\n",
       "        vertical-align: top;\n",
       "    }\n",
       "\n",
       "    .dataframe thead th {\n",
       "        text-align: right;\n",
       "    }\n",
       "</style>\n",
       "<table border=\"1\" class=\"dataframe\">\n",
       "  <thead>\n",
       "    <tr style=\"text-align: right;\">\n",
       "      <th></th>\n",
       "      <th>Product Name</th>\n",
       "      <th>Original Price</th>\n",
       "      <th>Discounted price</th>\n",
       "      <th>Discount(%)</th>\n",
       "      <th>Rating</th>\n",
       "    </tr>\n",
       "  </thead>\n",
       "  <tbody>\n",
       "    <tr>\n",
       "      <th>0</th>\n",
       "      <td>Bajaj GX1 500 W Mixer Grinder</td>\n",
       "      <td>3,505</td>\n",
       "      <td>2,099</td>\n",
       "      <td>40</td>\n",
       "      <td>4.2</td>\n",
       "    </tr>\n",
       "    <tr>\n",
       "      <th>1</th>\n",
       "      <td>Mi XXQ02HM  Runtime: 60 min Trimmer for Men</td>\n",
       "      <td>1,199</td>\n",
       "      <td>1,099</td>\n",
       "      <td>8</td>\n",
       "      <td>4.3</td>\n",
       "    </tr>\n",
       "    <tr>\n",
       "      <th>2</th>\n",
       "      <td>BAJAJ Majesty DX 6 1000 W Dry Iron</td>\n",
       "      <td>920</td>\n",
       "      <td>649</td>\n",
       "      <td>29</td>\n",
       "      <td>4.3</td>\n",
       "    </tr>\n",
       "    <tr>\n",
       "      <th>3</th>\n",
       "      <td>PHILIPS BT1232/15  Runtime: 30 mins Trimmer fo...</td>\n",
       "      <td>935</td>\n",
       "      <td>897</td>\n",
       "      <td>4</td>\n",
       "      <td>4.2</td>\n",
       "    </tr>\n",
       "    <tr>\n",
       "      <th>4</th>\n",
       "      <td>BAJAJ Majesty DX 11 1000 W Dry Iron</td>\n",
       "      <td>785</td>\n",
       "      <td>480</td>\n",
       "      <td>38</td>\n",
       "      <td>4.2</td>\n",
       "    </tr>\n",
       "    <tr>\n",
       "      <th>...</th>\n",
       "      <td>...</td>\n",
       "      <td>...</td>\n",
       "      <td>...</td>\n",
       "      <td>...</td>\n",
       "      <td>...</td>\n",
       "    </tr>\n",
       "    <tr>\n",
       "      <th>975</th>\n",
       "      <td>Blaupunkt Cybersound 80 cm</td>\n",
       "      <td>17,990</td>\n",
       "      <td>240</td>\n",
       "      <td>76</td>\n",
       "      <td>5</td>\n",
       "    </tr>\n",
       "    <tr>\n",
       "      <th>976</th>\n",
       "      <td>Syska Power Wheel 3  Socket Extension Boards</td>\n",
       "      <td>39,000</td>\n",
       "      <td>12,890</td>\n",
       "      <td>25</td>\n",
       "      <td>2</td>\n",
       "    </tr>\n",
       "    <tr>\n",
       "      <th>977</th>\n",
       "      <td>Tata Sky Company Replaced HD Recording TATA SK...</td>\n",
       "      <td>399</td>\n",
       "      <td>305</td>\n",
       "      <td>1</td>\n",
       "      <td>4.1</td>\n",
       "    </tr>\n",
       "    <tr>\n",
       "      <th>978</th>\n",
       "      <td>Whirlpool 190 L Direct Cool Single Door 2 Star...</td>\n",
       "      <td>24,990</td>\n",
       "      <td>4,999</td>\n",
       "      <td>69</td>\n",
       "      <td>4</td>\n",
       "    </tr>\n",
       "    <tr>\n",
       "      <th>979</th>\n",
       "      <td>CT 912VII Desktop 912VII Desktop Basic  Calcul...</td>\n",
       "      <td>1,199</td>\n",
       "      <td>4,039</td>\n",
       "      <td>10</td>\n",
       "      <td>5</td>\n",
       "    </tr>\n",
       "  </tbody>\n",
       "</table>\n",
       "<p>980 rows × 5 columns</p>\n",
       "</div>"
      ],
      "text/plain": [
       "                                          Product Name Original Price  \\\n",
       "0                        Bajaj GX1 500 W Mixer Grinder          3,505   \n",
       "1          Mi XXQ02HM  Runtime: 60 min Trimmer for Men          1,199   \n",
       "2                   BAJAJ Majesty DX 6 1000 W Dry Iron            920   \n",
       "3    PHILIPS BT1232/15  Runtime: 30 mins Trimmer fo...            935   \n",
       "4                  BAJAJ Majesty DX 11 1000 W Dry Iron            785   \n",
       "..                                                 ...            ...   \n",
       "975                        Blaupunkt Cybersound 80 cm          17,990   \n",
       "976       Syska Power Wheel 3  Socket Extension Boards         39,000   \n",
       "977  Tata Sky Company Replaced HD Recording TATA SK...            399   \n",
       "978  Whirlpool 190 L Direct Cool Single Door 2 Star...         24,990   \n",
       "979  CT 912VII Desktop 912VII Desktop Basic  Calcul...          1,199   \n",
       "\n",
       "    Discounted price Discount(%) Rating  \n",
       "0              2,099          40    4.2  \n",
       "1              1,099           8    4.3  \n",
       "2                649          29    4.3  \n",
       "3                897           4    4.2  \n",
       "4                480          38    4.2  \n",
       "..               ...         ...    ...  \n",
       "975              240          76      5  \n",
       "976           12,890          25      2  \n",
       "977              305           1    4.1  \n",
       "978            4,999          69      4  \n",
       "979            4,039          10      5  \n",
       "\n",
       "[980 rows x 5 columns]"
      ]
     },
     "execution_count": 19,
     "metadata": {},
     "output_type": "execute_result"
    }
   ],
   "source": [
    "df = pd.DataFrame(data)\n",
    "df"
   ]
  },
  {
   "cell_type": "code",
   "execution_count": 20,
   "id": "90fca2c7",
   "metadata": {},
   "outputs": [
    {
     "data": {
      "text/plain": [
       "(980, 5)"
      ]
     },
     "execution_count": 20,
     "metadata": {},
     "output_type": "execute_result"
    }
   ],
   "source": [
    "df.shape"
   ]
  },
  {
   "cell_type": "code",
   "execution_count": 21,
   "id": "0be8d8b0",
   "metadata": {},
   "outputs": [
    {
     "data": {
      "text/plain": [
       "<AxesSubplot:>"
      ]
     },
     "execution_count": 21,
     "metadata": {},
     "output_type": "execute_result"
    },
    {
     "data": {
      "image/png": "[encoded data removed]",
      "text/plain": [
       "<Figure size 432x288 with 1 Axes>"
      ]
     },
     "metadata": {
      "needs_background": "light"
     },
     "output_type": "display_data"
    }
   ],
   "source": [
    "df['Rating'].value_counts().plot(kind= 'bar')"
   ]
  },
  {
   "cell_type": "code",
   "execution_count": 22,
   "id": "33782395",
   "metadata": {},
   "outputs": [
    {
     "data": {
      "text/plain": [
       "<AxesSubplot:ylabel='Rating'>"
      ]
     },
     "execution_count": 22,
     "metadata": {},
     "output_type": "execute_result"
    },
    {
     "data": {
      "image/png": "[encoded data removed]",
      "text/plain": [
       "<Figure size 432x288 with 1 Axes>"
      ]
     },
     "metadata": {},
     "output_type": "display_data"
    }
   ],
   "source": [
    "df['Rating'].value_counts().plot(kind= 'pie')"
   ]
  },
  {
   "cell_type": "code",
   "execution_count": null,
   "id": "d146ffe7",
   "metadata": {},
   "outputs": [],
   "source": []
  },
  {
   "cell_type": "code",
   "execution_count": null,
   "id": "4512c46f",
   "metadata": {},
   "outputs": [],
   "source": []
  },
  {
   "cell_type": "code",
   "execution_count": null,
   "id": "81853a44",
   "metadata": {},
   "outputs": [],
   "source": []
  }
 ],
 "metadata": {
  "kernelspec": {
   "display_name": "Python 3 (ipykernel)",
   "language": "python",
   "name": "python3"
  },
  "language_info": {
   "codemirror_mode": {
    "name": "ipython",
    "version": 3
   },
   "file_extension": ".py",
   "mimetype": "text/x-python",
   "name": "python",
   "nbconvert_exporter": "python",
   "pygments_lexer": "ipython3",
   "version": "3.9.10"
  }
 },
 "nbformat": 4,
 "nbformat_minor": 5
}
